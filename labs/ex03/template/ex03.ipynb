{
 "cells": [
  {
   "cell_type": "code",
   "execution_count": 1,
   "metadata": {},
   "outputs": [],
   "source": [
    "# Useful starting lines\n",
    "%matplotlib inline\n",
    "import numpy as np\n",
    "import matplotlib.pyplot as plt\n",
    "from grid_search import generate_w\n",
    "%load_ext autoreload\n",
    "%autoreload 2"
   ]
  },
  {
   "cell_type": "markdown",
   "metadata": {},
   "source": [
    "# 1 Least squares and linear basis functions models\n",
    "## 1.1 Least squares"
   ]
  },
  {
   "cell_type": "code",
   "execution_count": 2,
   "metadata": {},
   "outputs": [],
   "source": [
    "def calculate_mse(e):\n",
    "    \"\"\"Calculate the mse for vector e.\"\"\"\n",
    "    return 1/2*np.mean(e**2)\n",
    "\n",
    "\n",
    "def calculate_mae(e):\n",
    "    \"\"\"Calculate the mae for vector e.\"\"\"\n",
    "    return np.mean(np.abs(e))\n",
    "\n",
    "\n",
    "def compute_loss(y, tx, w):\n",
    "    \"\"\"Calculate the loss.\n",
    "\n",
    "    You can calculate the loss using mse or mae.\n",
    "    \"\"\"\n",
    "    e = y - tx.dot(w)\n",
    "    return calculate_mse(e)\n",
    "\n",
    "\n",
    "def generate_w(num_intervals):\n",
    "    \"\"\"Generate a grid of values for w0 and w1.\"\"\"\n",
    "    w0 = np.linspace(-100, 200, num_intervals)\n",
    "    w1 = np.linspace(-150, 150, num_intervals)\n",
    "    return w0, w1\n",
    "\n",
    "def grid_search(y, tx, w0, w1):\n",
    "    \"\"\"Algorithm for grid search.\"\"\"\n",
    "    loss = np.zeros((len(w0), len(w1)))\n",
    "    # compute loss for each combinationof w0 and w1.\n",
    "    for ind_row, row in enumerate(w0):\n",
    "        for ind_col, col in enumerate(w1):\n",
    "            w = np.array([row, col])\n",
    "            loss[ind_row, ind_col] = compute_loss(y, tx, w)\n",
    "    return loss\n",
    "\n",
    "def get_best_parameters(w0, w1, losses):\n",
    "    \"\"\"Get the best w from the result of grid search.\"\"\"\n",
    "    min_row, min_col = np.unravel_index(np.argmin(losses), losses.shape)\n",
    "    return losses[min_row, min_col], w0[min_row], w1[min_col]\n"
   ]
  },
  {
   "cell_type": "code",
   "execution_count": 3,
   "metadata": {},
   "outputs": [],
   "source": [
    "def least_squares(y, tx):\n",
    "    \"\"\"calculate the least squares solution.\"\"\"\n",
    "    # ***************************************************\n",
    "    # INSERT YOUR CODE HERE\n",
    "    # least squares: TODO\n",
    "    # returns mse, and optimal weights\n",
    "    # ***************************************************\n",
    "    w = np.linalg.solve(np.dot(tx.T,  tx), np.dot(tx.T,  y))\n",
    "    return compute_loss(y, tx, w), w\n",
    "    "
   ]
  },
  {
   "cell_type": "markdown",
   "metadata": {},
   "source": [
    "### Load the data\n",
    "Here we will reuse the dataset `height_weight_genders.csv` from previous exercise section to check the correctness of your implementation. Please compare it with your previous result."
   ]
  },
  {
   "cell_type": "code",
   "execution_count": 4,
   "metadata": {},
   "outputs": [],
   "source": [
    "from helpers import *\n",
    "def test_your_least_squares():\n",
    "    height, weight, gender = load_data_from_ex02(sub_sample=False, add_outlier=False)\n",
    "    x, mean_x, std_x = standardize(height)\n",
    "    y, tx = build_model_data(x, weight)\n",
    "    grid_w0,  grid_w1 = generate_w(100)\n",
    "    grid_losses = grid_search(y, tx, grid_w0, grid_w1)\n",
    "    print(get_best_parameters(grid_w0, grid_w1,  grid_losses))\n",
    "\n",
    "    # ***************************************************\n",
    "    # INSERT YOUR CODE HERE\n",
    "    # least square or grid search: TODO\n",
    "    # this code should compare the optimal weights obtained \n",
    "    # by least squares vs. grid search\n",
    "    # ***************************************************\n",
    "    print(least_squares(y, tx))\n",
    "    \n",
    "    print \n"
   ]
  },
  {
   "cell_type": "markdown",
   "metadata": {},
   "source": [
    "Test it here"
   ]
  },
  {
   "cell_type": "code",
   "execution_count": 5,
   "metadata": {},
   "outputs": [
    {
     "name": "stdout",
     "output_type": "stream",
     "text": [
      "(15.55870336860953, 72.72727272727272, 13.636363636363626)\n",
      "(15.3858878688294, array([73.293922  , 13.47971243]))\n"
     ]
    }
   ],
   "source": [
    "test_your_least_squares()"
   ]
  },
  {
   "cell_type": "markdown",
   "metadata": {},
   "source": [
    "## 1.2 Least squares with a linear basis function model\n",
    "Start from this section, we will use the dataset `dataEx3.csv`.\n",
    "\n",
    "### Implement polynomial basis functions"
   ]
  },
  {
   "cell_type": "code",
   "execution_count": 6,
   "metadata": {
    "scrolled": true
   },
   "outputs": [
    {
     "name": "stdout",
     "output_type": "stream",
     "text": [
      "shape of x (50,)\n",
      "shape of y (50,)\n"
     ]
    }
   ],
   "source": [
    "# load dataset\n",
    "x, y = load_data()\n",
    "print(\"shape of x {}\".format(x.shape))\n",
    "print(\"shape of y {}\".format(y.shape))"
   ]
  },
  {
   "cell_type": "code",
   "execution_count": 7,
   "metadata": {},
   "outputs": [],
   "source": [
    "def build_poly(x, degree):\n",
    "    \"\"\"polynomial basis functions for input data x, for j=0 up to j=degree.\"\"\"\n",
    "    # ***************************************************\n",
    "    # INSERT YOUR CODE HERE\n",
    "    # polynomial basis function: TODO\n",
    "    # this function should return the matrix formed\n",
    "    # by applying the polynomial basis to the input data\n",
    "    # ***************************************************\n",
    "    xpoly = np.zeros((len(x), degree))\n",
    "    for i in range(degree):\n",
    "        xpoly[:, i] = x[:]**i\n",
    "    return xpoly"
   ]
  },
  {
   "cell_type": "markdown",
   "metadata": {},
   "source": [
    "Let us play with polynomial regression. Note that we will use your implemented function `compute_mse`. Please copy and paste your implementation from exercise02."
   ]
  },
  {
   "cell_type": "code",
   "execution_count": 8,
   "metadata": {},
   "outputs": [],
   "source": [
    "# from costs import compute_mse\n",
    "from plots import plot_fitted_curve\n",
    "\n",
    "def polynomial_regression(x, y):\n",
    "    \"\"\"Constructing the polynomial basis function expansion of the data,\n",
    "       and then running least squares regression.\"\"\"\n",
    "    # define parameters\n",
    "    degrees = [1, 3, 27, len(x)]\n",
    "    \n",
    "    # define the structure of the figure\n",
    "    num_row = 2\n",
    "    num_col = 2\n",
    "    f, axs = plt.subplots(num_row, num_col)\n",
    "\n",
    "    for ind, degree in enumerate(degrees):\n",
    "        xpoly = build_poly(x, degree)\n",
    "        rmse, weights = least_squares(y, xpoly)\n",
    "        print(\"Processing {i}th experiment, degree={d}, rmse={loss}\".format(\n",
    "              i=ind + 1, d=degree, loss=rmse))\n",
    "        # plot fit\n",
    "        print (degree, len(weights), xpoly.shape)\n",
    "        plot_fitted_curve(\n",
    "            y, x, weights, degree, axs[ind // num_col][ind % num_col])\n",
    "    plt.tight_layout()\n",
    "    plt.savefig(\"visualize_polynomial_regression\")\n",
    "    plt.show()"
   ]
  },
  {
   "cell_type": "markdown",
   "metadata": {},
   "source": [
    "Run polynomial regression"
   ]
  },
  {
   "cell_type": "code",
   "execution_count": 16,
   "metadata": {},
   "outputs": [
    {
     "name": "stdout",
     "output_type": "stream",
     "text": [
      "Processing 1th experiment, degree=1, rmse=0.2505474601890666\n",
      "1 1 (50, 1)\n",
      "Processing 2th experiment, degree=3, rmse=0.10903607966427063\n",
      "3 3 (50, 3)\n",
      "Processing 3th experiment, degree=27, rmse=0.02688225462762966\n",
      "27 27 (50, 27)\n",
      "Processing 4th experiment, degree=50, rmse=0.025251104103624744\n",
      "50 50 (50, 50)\n"
     ]
    },
    {
     "data": {
      "image/png": "[encoded data removed]",
      "text/plain": [
       "<matplotlib.figure.Figure at 0x7fe51cd32240>"
      ]
     },
     "metadata": {},
     "output_type": "display_data"
    }
   ],
   "source": [
    "polynomial_regression(x, y)"
   ]
  },
  {
   "cell_type": "markdown",
   "metadata": {},
   "source": [
    "# 2 Evaluating model predication performance\n",
    "\n",
    "\n",
    "Let us show the train and test splits for various polynomial degrees. First of all, please fill in the function `split_data()`"
   ]
  },
  {
   "cell_type": "code",
   "execution_count": 15,
   "metadata": {},
   "outputs": [],
   "source": [
    "def split_data(x, y, ratio, seed=1):\n",
    "    \"\"\"\n",
    "    split the dataset based on the split ratio. If ratio is 0.8 \n",
    "    you will have 80% of your data set dedicated to training \n",
    "    and the rest dedicated to testing\n",
    "    \"\"\"\n",
    "    # set seed\n",
    "    np.random.seed(seed)\n",
    "    assert len(x)==len(y), 'not matching'\n",
    "    a = np.arange(len(x))\n",
    "    n_training = int(ratio*len(x))\n",
    "    n_testing = len(x)-n_training\n",
    "    msk = np.zeros(len(x), dtype=bool)\n",
    "    choice_training = np.random.choice(a, size=n_training, replace=False)\n",
    "    msk[choice_training] = True\n",
    "    training_x = x[msk] \n",
    "    testing_x = x[~msk]\n",
    "    \n",
    "    training_y = y[msk]\n",
    "    testing_y = y[~msk]\n",
    "    \n",
    "    return training_x, training_y, testing_x, testing_y\n"
   ]
  },
  {
   "cell_type": "markdown",
   "metadata": {},
   "source": [
    "Then, test your `split_data` function below."
   ]
  },
  {
   "cell_type": "code",
   "execution_count": 32,
   "metadata": {},
   "outputs": [
    {
     "name": "stdout",
     "output_type": "stream",
     "text": [
      "proportion=0.8, degree=3, Training RMSE=0.091, Testing RMSE=0.245\n"
     ]
    }
   ],
   "source": [
    "def train_test_split_demo(x, y, degree, ratio, seed):\n",
    "    \"\"\"polynomial regression with different split ratios and different degrees.\"\"\"\n",
    "    # ***************************************************\n",
    "    # INSERT YOUR CODE HERE\n",
    "    # split the data, and return train and test data: TODO\n",
    "    # ***************************************************\n",
    "    x_training, y_training, x_testing, y_testing = split_data(x, y, ratio, seed)\n",
    "    # ***************************************************\n",
    "    # INSERT YOUR CODE HERE\n",
    "    # form train and test data with polynomial basis function: TODO\n",
    "    # ***************************************************\n",
    "    x_poly_training = build_poly(x_training, degree)\n",
    "    x_poly_testing = build_poly(x_testing, degree)\n",
    "\n",
    "    # ***************************************************\n",
    "    # INSERT YOUR CODE HERE\n",
    "    # calcualte weight through least square.: TODO\n",
    "    # ***************************************************\n",
    "    rmse_tr, weights_training = least_squares(y_training, x_poly_training)\n",
    "    # ***************************************************\n",
    "    # INSERT YOUR CODE HERE\n",
    "    # calculate RMSE for train and test data,\n",
    "    # and store them in rmse_tr and rmse_te respectively: TODO\n",
    "    # ***************************************************\n",
    "    rmse_te = compute_loss(y_testing, x_poly_testing, weights_training)\n",
    "    print(\"proportion={p}, degree={d}, Training RMSE={tr:.3f}, Testing RMSE={te:.3f}\".format(\n",
    "          p=ratio, d=degree, tr=rmse_tr, te=rmse_te))\n",
    "train_test_split_demo(x, y, 3, 0.8, 1)"
   ]
  },
  {
   "cell_type": "code",
   "execution_count": 34,
   "metadata": {},
   "outputs": [
    {
     "name": "stdout",
     "output_type": "stream",
     "text": [
      "proportion=0.9, degree=3, Training RMSE=0.119, Testing RMSE=0.022\n",
      "proportion=0.9, degree=5, Training RMSE=0.034, Testing RMSE=0.023\n",
      "proportion=0.9, degree=7, Training RMSE=0.032, Testing RMSE=0.023\n",
      "proportion=0.9, degree=9, Training RMSE=0.032, Testing RMSE=0.024\n",
      "proportion=0.5, degree=3, Training RMSE=0.102, Testing RMSE=0.159\n",
      "proportion=0.5, degree=5, Training RMSE=0.028, Testing RMSE=0.042\n",
      "proportion=0.5, degree=7, Training RMSE=0.027, Testing RMSE=0.040\n",
      "proportion=0.5, degree=9, Training RMSE=0.026, Testing RMSE=0.054\n",
      "proportion=0.1, degree=3, Training RMSE=0.039, Testing RMSE=0.236\n",
      "proportion=0.1, degree=5, Training RMSE=0.000, Testing RMSE=11.087\n",
      "proportion=0.1, degree=7, Training RMSE=0.000, Testing RMSE=5.232\n",
      "proportion=0.1, degree=9, Training RMSE=0.000, Testing RMSE=3.477\n"
     ]
    }
   ],
   "source": [
    "seed = 6\n",
    "degrees = range(3,11,2 )\n",
    "split_ratios = [0.9, 0.5, 0.1]\n",
    "for split_ratio in split_ratios:\n",
    "    for degree in degrees:\n",
    "        train_test_split_demo(x, y, degree, split_ratio, seed)"
   ]
  },
  {
   "cell_type": "markdown",
   "metadata": {},
   "source": [
    "# 3 Ridge Regression\n",
    "Please fill in the function below."
   ]
  },
  {
   "cell_type": "code",
   "execution_count": 78,
   "metadata": {},
   "outputs": [],
   "source": [
    "def ridge_regression(y, tx, lambda_):\n",
    "    \"\"\"implement ridge regression.\"\"\"\n",
    "    # ***************************************************\n",
    "    # INSERT YOUR CODE HERE\n",
    "    # ridge regression: TODO\n",
    "    # ***************************************************\n",
    "    N, D = tx.shape\n",
    "    w = np.linalg.solve(np.dot(tx.T,  tx)+lambda_/ (2*N) *np.eye(D), np.dot(tx.T,  y))\n",
    "    return compute_loss(y, tx, w), w\n"
   ]
  },
  {
   "cell_type": "code",
   "execution_count": 103,
   "metadata": {},
   "outputs": [],
   "source": [
    "from plots import plot_train_test\n",
    "def ridge_regression_demo(x, y, degree, ratio, seed):\n",
    "    \"\"\"ridge regression demo.\"\"\"\n",
    "    # define parameter\n",
    "    lambdas = np.logspace(-5, 3, 50)\n",
    "    # ***************************************************\n",
    "    # INSERT YOUR CODE HERE\n",
    "    # split the data, and return train and test data: TODO\n",
    "    # ***************************************************\n",
    "    x_training, y_training, x_testing, y_testing = split_data(x, y, ratio, seed)\n",
    "    # ***************************************************\n",
    "    # INSERT YOUR CODE HERE\n",
    "    # form train and test data with polynomial basis function: TODO\n",
    "    # ***************************************************\n",
    "    x_poly_training = build_poly(x_training, degree)\n",
    "    x_poly_testing = build_poly(x_testing, degree)\n",
    "\n",
    "    rmse_tr = []\n",
    "    rmse_te = []\n",
    "    for ind, lambda_ in enumerate(lambdas):\n",
    "        # ***************************************************\n",
    "        # INSERT YOUR CODE HERE\n",
    "        # ridge regression with a given lambda\n",
    "        # ***************************************************\n",
    "        rmse_training, weights_training = ridge_regression(y_training, x_poly_training, lambda_)\n",
    "        rmse_tr.append(rmse_training)\n",
    "    # ***************************************************\n",
    "        rmse_te.append(compute_loss(y_testing, x_poly_testing, weights_training))\n",
    "        \n",
    "        print(\"proportion={p}, degree={d}, lambda={l:.3f}, Training RMSE={tr:.3f}, Testing RMSE={te:.3f}\".format(\n",
    "               p=ratio, d=degree, l=lambda_, tr=rmse_tr[ind], te=rmse_te[ind]))\n",
    "        \n",
    "    # Plot the obtained results\n",
    "    plot_train_test(rmse_tr, rmse_te, lambdas, degree)\n",
    "\n"
   ]
  },
  {
   "cell_type": "code",
   "execution_count": 105,
   "metadata": {},
   "outputs": [
    {
     "name": "stdout",
     "output_type": "stream",
     "text": [
      "proportion=0.5, degree=7, lambda=0.000, Training RMSE=0.032, Testing RMSE=0.032\n",
      "proportion=0.5, degree=7, lambda=0.000, Training RMSE=0.032, Testing RMSE=0.032\n",
      "proportion=0.5, degree=7, lambda=0.000, Training RMSE=0.032, Testing RMSE=0.032\n",
      "proportion=0.5, degree=7, lambda=0.000, Training RMSE=0.032, Testing RMSE=0.032\n",
      "proportion=0.5, degree=7, lambda=0.000, Training RMSE=0.032, Testing RMSE=0.032\n",
      "proportion=0.5, degree=7, lambda=0.000, Training RMSE=0.032, Testing RMSE=0.032\n",
      "proportion=0.5, degree=7, lambda=0.000, Training RMSE=0.032, Testing RMSE=0.032\n",
      "proportion=0.5, degree=7, lambda=0.000, Training RMSE=0.032, Testing RMSE=0.032\n",
      "proportion=0.5, degree=7, lambda=0.000, Training RMSE=0.032, Testing RMSE=0.032\n",
      "proportion=0.5, degree=7, lambda=0.000, Training RMSE=0.032, Testing RMSE=0.032\n",
      "proportion=0.5, degree=7, lambda=0.000, Training RMSE=0.032, Testing RMSE=0.032\n",
      "proportion=0.5, degree=7, lambda=0.001, Training RMSE=0.032, Testing RMSE=0.032\n",
      "proportion=0.5, degree=7, lambda=0.001, Training RMSE=0.032, Testing RMSE=0.032\n",
      "proportion=0.5, degree=7, lambda=0.001, Training RMSE=0.032, Testing RMSE=0.032\n",
      "proportion=0.5, degree=7, lambda=0.002, Training RMSE=0.032, Testing RMSE=0.032\n",
      "proportion=0.5, degree=7, lambda=0.003, Training RMSE=0.032, Testing RMSE=0.032\n",
      "proportion=0.5, degree=7, lambda=0.004, Training RMSE=0.032, Testing RMSE=0.032\n",
      "proportion=0.5, degree=7, lambda=0.006, Training RMSE=0.032, Testing RMSE=0.032\n",
      "proportion=0.5, degree=7, lambda=0.009, Training RMSE=0.032, Testing RMSE=0.032\n",
      "proportion=0.5, degree=7, lambda=0.013, Training RMSE=0.032, Testing RMSE=0.032\n",
      "proportion=0.5, degree=7, lambda=0.018, Training RMSE=0.032, Testing RMSE=0.032\n",
      "proportion=0.5, degree=7, lambda=0.027, Training RMSE=0.032, Testing RMSE=0.032\n",
      "proportion=0.5, degree=7, lambda=0.039, Training RMSE=0.032, Testing RMSE=0.032\n",
      "proportion=0.5, degree=7, lambda=0.057, Training RMSE=0.032, Testing RMSE=0.032\n",
      "proportion=0.5, degree=7, lambda=0.083, Training RMSE=0.032, Testing RMSE=0.032\n",
      "proportion=0.5, degree=7, lambda=0.121, Training RMSE=0.032, Testing RMSE=0.032\n",
      "proportion=0.5, degree=7, lambda=0.176, Training RMSE=0.032, Testing RMSE=0.032\n",
      "proportion=0.5, degree=7, lambda=0.256, Training RMSE=0.032, Testing RMSE=0.032\n",
      "proportion=0.5, degree=7, lambda=0.373, Training RMSE=0.032, Testing RMSE=0.032\n",
      "proportion=0.5, degree=7, lambda=0.543, Training RMSE=0.032, Testing RMSE=0.033\n",
      "proportion=0.5, degree=7, lambda=0.791, Training RMSE=0.032, Testing RMSE=0.033\n",
      "proportion=0.5, degree=7, lambda=1.151, Training RMSE=0.032, Testing RMSE=0.033\n",
      "proportion=0.5, degree=7, lambda=1.677, Training RMSE=0.032, Testing RMSE=0.033\n",
      "proportion=0.5, degree=7, lambda=2.442, Training RMSE=0.032, Testing RMSE=0.033\n",
      "proportion=0.5, degree=7, lambda=3.556, Training RMSE=0.032, Testing RMSE=0.033\n",
      "proportion=0.5, degree=7, lambda=5.179, Training RMSE=0.032, Testing RMSE=0.034\n",
      "proportion=0.5, degree=7, lambda=7.543, Training RMSE=0.032, Testing RMSE=0.034\n",
      "proportion=0.5, degree=7, lambda=10.985, Training RMSE=0.033, Testing RMSE=0.035\n",
      "proportion=0.5, degree=7, lambda=15.999, Training RMSE=0.033, Testing RMSE=0.035\n",
      "proportion=0.5, degree=7, lambda=23.300, Training RMSE=0.033, Testing RMSE=0.036\n",
      "proportion=0.5, degree=7, lambda=33.932, Training RMSE=0.033, Testing RMSE=0.037\n",
      "proportion=0.5, degree=7, lambda=49.417, Training RMSE=0.034, Testing RMSE=0.038\n",
      "proportion=0.5, degree=7, lambda=71.969, Training RMSE=0.034, Testing RMSE=0.038\n",
      "proportion=0.5, degree=7, lambda=104.811, Training RMSE=0.035, Testing RMSE=0.039\n",
      "proportion=0.5, degree=7, lambda=152.642, Training RMSE=0.036, Testing RMSE=0.040\n",
      "proportion=0.5, degree=7, lambda=222.300, Training RMSE=0.037, Testing RMSE=0.041\n",
      "proportion=0.5, degree=7, lambda=323.746, Training RMSE=0.039, Testing RMSE=0.042\n",
      "proportion=0.5, degree=7, lambda=471.487, Training RMSE=0.042, Testing RMSE=0.042\n",
      "proportion=0.5, degree=7, lambda=686.649, Training RMSE=0.045, Testing RMSE=0.043\n",
      "proportion=0.5, degree=7, lambda=1000.000, Training RMSE=0.050, Testing RMSE=0.045\n"
     ]
    },
    {
     "data": {
      "image/png": "[encoded data removed]",
      "text/plain": [
       "<matplotlib.figure.Figure at 0x7fe51cc91358>"
      ]
     },
     "metadata": {},
     "output_type": "display_data"
    }
   ],
   "source": [
    "seed = 30\n",
    "degree = 7\n",
    "split_ratio = 0.5\n",
    "ridge_regression_demo(x, y, degree, split_ratio, seed)"
   ]
  },
  {
   "cell_type": "code",
   "execution_count": null,
   "metadata": {},
   "outputs": [],
   "source": []
  },
  {
   "cell_type": "code",
   "execution_count": null,
   "metadata": {},
   "outputs": [],
   "source": []
  }
 ],
 "metadata": {
  "anaconda-cloud": {},
  "kernelspec": {
   "display_name": "Python 3",
   "language": "python",
   "name": "python3"
  },
  "language_info": {
   "codemirror_mode": {
    "name": "ipython",
    "version": 3
   },
   "file_extension": ".py",
   "mimetype": "text/x-python",
   "name": "python",
   "nbconvert_exporter": "python",
   "pygments_lexer": "ipython3",
   "version": "3.6.6"
  }
 },
 "nbformat": 4,
 "nbformat_minor": 1
}
