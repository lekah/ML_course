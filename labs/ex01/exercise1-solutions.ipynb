{
 "cells": [
  {
   "cell_type": "markdown",
   "metadata": {},
   "source": [
    "# Exercise 1\n",
    "\n"
   ]
  },
  {
   "cell_type": "markdown",
   "metadata": {},
   "source": [
    "## Task A"
   ]
  },
  {
   "cell_type": "code",
   "execution_count": 1,
   "metadata": {},
   "outputs": [],
   "source": [
    "import numpy as np"
   ]
  },
  {
   "cell_type": "code",
   "execution_count": 4,
   "metadata": {
    "scrolled": true
   },
   "outputs": [
    {
     "name": "stdout",
     "output_type": "stream",
     "text": [
      "[[-0.23511587 -1.09014252  1.32525839]]\n"
     ]
    }
   ],
   "source": [
    "def standardize_matrix(A):\n",
    "    mean_ = A.mean(axis=1)\n",
    "    std_ = A.std(axis=1)\n",
    "    return (A[:,:] - mean_[:,np.newaxis]) / std_[:, np.newaxis]\n",
    "\n",
    "# creating an array of 100 lines,  D=10\n",
    "M_random =4.*np.random.random((1, 3))+10.\n",
    "M_standardized = standardize_matrix(M_random)\n",
    "\n",
    "assert not(np.any( M_standardized.mean(axis=1)**2 > 1e-9)), \"Found non-standardized\"\n",
    "assert not(np.any(( M_standardized.std(axis=1)-np.ones(M_standardized.shape[0]))**2 > 1e-9)), \"Found non-standardized\"\n",
    "print(M_standardized)"
   ]
  },
  {
   "cell_type": "markdown",
   "metadata": {},
   "source": [
    "## Task B, compute pairwise distances"
   ]
  },
  {
   "cell_type": "code",
   "execution_count": 10,
   "metadata": {},
   "outputs": [],
   "source": [
    "def get_pairwise_distances(P, Q):\n",
    "    assert P.shape[1]==2,\"\"\n",
    "    assert Q.shape[1]==2,\"\"\n",
    "    D = np.empty((P.shape[0], Q.shape[0]))\n",
    "    for i in range(len(P)):\n",
    "        for j in range(len(Q)):\n",
    "            D[i,j] = np.sqrt(np.sum((P[i,:]-Q[j,:])**2))\n",
    "    return D\n",
    "def get_pairwise_distances_fast(P, Q):\n",
    "    return np.sqrt(np.subtract.outer(P[:,0],Q[:,0])**2+np.subtract.outer(P[:,1],Q[:,1])**2)\n",
    "\n",
    "def get_pairwise_distances_3(P, Q):\n",
    "    return np.array([[np.linalg.norm(i-j) for i in Q] for j in P])\n",
    "\n",
    "def with_indices_2(p, q):\n",
    "    rows, cols = np.indices((p.shape[0], q.shape[0]))\n",
    "    distances = np.sqrt(np.sum((p[rows, :] - q[cols, :])**2, axis=2))\n",
    "    return distances\n",
    "\n",
    "P = np.random.random((4, 2))\n",
    "Q = np.random.random((9, 2))"
   ]
  },
  {
   "cell_type": "code",
   "execution_count": 6,
   "metadata": {},
   "outputs": [
    {
     "name": "stdout",
     "output_type": "stream",
     "text": [
      "1000 loops, best of 3: 289 µs per loop\n"
     ]
    }
   ],
   "source": [
    "%%timeit\n",
    "get_pairwise_distances(P, Q)"
   ]
  },
  {
   "cell_type": "code",
   "execution_count": 7,
   "metadata": {},
   "outputs": [
    {
     "name": "stdout",
     "output_type": "stream",
     "text": [
      "The slowest run took 7.82 times longer than the fastest. This could mean that an intermediate result is being cached.\n",
      "100000 loops, best of 3: 7.9 µs per loop\n"
     ]
    }
   ],
   "source": [
    "%%timeit\n",
    "get_pairwise_distances_fast(P,Q)"
   ]
  },
  {
   "cell_type": "code",
   "execution_count": 8,
   "metadata": {},
   "outputs": [
    {
     "name": "stdout",
     "output_type": "stream",
     "text": [
      "The slowest run took 4.79 times longer than the fastest. This could mean that an intermediate result is being cached.\n",
      "10000 loops, best of 3: 162 µs per loop\n"
     ]
    }
   ],
   "source": [
    "%%timeit\n",
    "get_pairwise_distances_3(P,Q)"
   ]
  },
  {
   "cell_type": "code",
   "execution_count": 11,
   "metadata": {},
   "outputs": [
    {
     "name": "stdout",
     "output_type": "stream",
     "text": [
      "The slowest run took 10.79 times longer than the fastest. This could mean that an intermediate result is being cached.\n",
      "10000 loops, best of 3: 25.2 µs per loop\n"
     ]
    }
   ],
   "source": [
    "%%timeit\n",
    "with_indices_2(P,Q)"
   ]
  },
  {
   "cell_type": "markdown",
   "metadata": {},
   "source": [
    "## Task C"
   ]
  },
  {
   "cell_type": "code",
   "execution_count": 12,
   "metadata": {},
   "outputs": [
    {
     "name": "stdout",
     "output_type": "stream",
     "text": [
      "0.04436232579112722 1.2574671825189604e-61\n"
     ]
    }
   ],
   "source": [
    "def get_p(X, mu, sigma):\n",
    "    prefac = ( (2*np.pi)**(0.5*X.shape[0]) * np.linalg.det(sigma) )**(-1)\n",
    "    shifted = X-mu\n",
    "    exponent = -np.dot(0.5 * shifted.T, np.dot(np.linalg.inv(sigma), shifted))\n",
    "    return prefac*np.exp(exponent)\n",
    "def most_likely(X, theta1, theta2):\n",
    "    p1 = get_p(X, *theta1)\n",
    "    p2 = get_p(X, *theta2)\n",
    "    print(p1, p2)\n",
    "\n",
    "D = 3\n",
    "most_likely(np.random.random(D), (np.zeros(D), np.eye(D)), (10, np.eye(D)))\n",
    "    "
   ]
  },
  {
   "cell_type": "code",
   "execution_count": null,
   "metadata": {},
   "outputs": [],
   "source": []
  }
 ],
 "metadata": {
  "kernelspec": {
   "display_name": "Python 3",
   "language": "python",
   "name": "python3"
  },
  "language_info": {
   "codemirror_mode": {
    "name": "ipython",
    "version": 3
   },
   "file_extension": ".py",
   "mimetype": "text/x-python",
   "name": "python",
   "nbconvert_exporter": "python",
   "pygments_lexer": "ipython3",
   "version": "3.6.6"
  }
 },
 "nbformat": 4,
 "nbformat_minor": 2
}
