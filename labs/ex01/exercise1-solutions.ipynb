{
 "cells": [
  {
   "cell_type": "markdown",
   "metadata": {},
   "source": [
    "# Exercise 1\n",
    "\n"
   ]
  },
  {
   "cell_type": "markdown",
   "metadata": {},
   "source": [
    "## Task A"
   ]
  },
  {
   "cell_type": "code",
   "execution_count": 2,
   "metadata": {},
   "outputs": [],
   "source": [
    "import numpy as np"
   ]
  },
  {
   "cell_type": "code",
   "execution_count": 129,
   "metadata": {
    "scrolled": true
   },
   "outputs": [
    {
     "name": "stdout",
     "output_type": "stream",
     "text": [
      "[[ 0.31180922 -1.35050967  1.03870045]\n",
      " [-1.41421268  0.70573601  0.70847666]\n",
      " [-1.19763439  1.25016496 -0.05253057]\n",
      " [ 1.41404557 -0.68814586 -0.72589971]\n",
      " [-0.32607336  1.35478209 -1.02870873]\n",
      " [ 0.67264606  0.7410165  -1.41366256]\n",
      " [ 0.87275765 -1.40008032  0.52732267]\n",
      " [-1.00767781  1.36316368 -0.35548588]\n",
      " [-0.46432805 -0.92468497  1.38901302]\n",
      " [ 0.63403392  0.77774363 -1.41177755]\n",
      " [ 0.32742647 -1.35518037  1.0277539 ]]\n"
     ]
    }
   ],
   "source": [
    "def standardize_matrix(A):\n",
    "    mean_ = A.mean(axis=1)\n",
    "    std_ = A.std(axis=1)\n",
    "    return (A[:,:] - mean_[:,np.newaxis]) / std_[:, np.newaxis]\n",
    "\n",
    "# creating an array of 100 lines,  D=10\n",
    "M_random =4.*np.random.random((11, 3))+10.\n",
    "M_standardized = standardize_matrix(M_random)\n",
    "assert not(np.any( M_standardized.mean(axis=1)**2 > 1e-9)), \"Found non-standardized\"\n",
    "assert not(np.any(( M_standardized.std(axis=1)-np.ones(M_standardized.shape[0]))**2 > 1e-9)), \"Found non-standardized\"\n",
    "print(M_standardized)"
   ]
  },
  {
   "cell_type": "markdown",
   "metadata": {},
   "source": [
    "## Task B, compute pairwise distances"
   ]
  },
  {
   "cell_type": "code",
   "execution_count": 125,
   "metadata": {},
   "outputs": [],
   "source": [
    "def get_pairwise_distances(P, Q):\n",
    "    assert P.shape[1]==2,\"\"\n",
    "    assert Q.shape[1]==2,\"\"\n",
    "    D = np.empty((P.shape[0], Q.shape[0]))\n",
    "    for i in range(len(P)):\n",
    "        for j in range(len(Q)):\n",
    "            D[i,j] = np.sqrt(np.sum((P[i,:]-Q[j,:])**2))\n",
    "    return D\n",
    "def get_pairwise_distances_fast(P, Q):\n",
    "    return np.sqrt(np.subtract.outer(P[:,0],Q[:,0])**2+np.subtract.outer(P[:,1],Q[:,1])**2)\n",
    "\n",
    "def get_pairwise_distances_3(P, Q):\n",
    "    return np.array([[np.linalg.norm(i-j) for i in Q] for j in P])\n",
    "P = np.random.random((4, 2))\n",
    "Q = np.random.random((9, 2))"
   ]
  },
  {
   "cell_type": "code",
   "execution_count": 126,
   "metadata": {},
   "outputs": [
    {
     "data": {
      "text/plain": [
       "array([[0.5160676 , 0.75832508, 0.54710018, 0.7440712 , 1.00981184,\n",
       "        0.95922104, 0.4077    , 0.64956112, 0.58362992],\n",
       "       [0.10917801, 0.28128635, 0.24924088, 0.13261186, 0.79972815,\n",
       "        0.93507968, 0.36595302, 0.51616153, 0.10206982],\n",
       "       [0.31354804, 0.53737545, 0.42183803, 0.53788882, 0.97234151,\n",
       "        0.98598518, 0.33871836, 0.60864471, 0.40955618],\n",
       "       [0.72359134, 0.94102745, 0.48627458, 0.72698734, 0.13809474,\n",
       "        0.39440653, 0.55703091, 0.30607567, 0.58965837]])"
      ]
     },
     "execution_count": 126,
     "metadata": {},
     "output_type": "execute_result"
    }
   ],
   "source": [
    "#%%timeit\n",
    "get_pairwise_distances(P, Q)"
   ]
  },
  {
   "cell_type": "code",
   "execution_count": 127,
   "metadata": {},
   "outputs": [
    {
     "data": {
      "text/plain": [
       "array([[0.5160676 , 0.75832508, 0.54710018, 0.7440712 , 1.00981184,\n",
       "        0.95922104, 0.4077    , 0.64956112, 0.58362992],\n",
       "       [0.10917801, 0.28128635, 0.24924088, 0.13261186, 0.79972815,\n",
       "        0.93507968, 0.36595302, 0.51616153, 0.10206982],\n",
       "       [0.31354804, 0.53737545, 0.42183803, 0.53788882, 0.97234151,\n",
       "        0.98598518, 0.33871836, 0.60864471, 0.40955618],\n",
       "       [0.72359134, 0.94102745, 0.48627458, 0.72698734, 0.13809474,\n",
       "        0.39440653, 0.55703091, 0.30607567, 0.58965837]])"
      ]
     },
     "execution_count": 127,
     "metadata": {},
     "output_type": "execute_result"
    }
   ],
   "source": [
    "#%%timeit\n",
    "get_pairwise_distances_fast(P,Q)"
   ]
  },
  {
   "cell_type": "code",
   "execution_count": 128,
   "metadata": {},
   "outputs": [
    {
     "data": {
      "text/plain": [
       "array([[0.5160676 , 0.75832508, 0.54710018, 0.7440712 , 1.00981184,\n",
       "        0.95922104, 0.4077    , 0.64956112, 0.58362992],\n",
       "       [0.10917801, 0.28128635, 0.24924088, 0.13261186, 0.79972815,\n",
       "        0.93507968, 0.36595302, 0.51616153, 0.10206982],\n",
       "       [0.31354804, 0.53737545, 0.42183803, 0.53788882, 0.97234151,\n",
       "        0.98598518, 0.33871836, 0.60864471, 0.40955618],\n",
       "       [0.72359134, 0.94102745, 0.48627458, 0.72698734, 0.13809474,\n",
       "        0.39440653, 0.55703091, 0.30607567, 0.58965837]])"
      ]
     },
     "execution_count": 128,
     "metadata": {},
     "output_type": "execute_result"
    }
   ],
   "source": [
    "# %%timeit\n",
    "get_pairwise_distances_3(P,Q)"
   ]
  },
  {
   "cell_type": "markdown",
   "metadata": {},
   "source": [
    "## Task C"
   ]
  },
  {
   "cell_type": "code",
   "execution_count": 145,
   "metadata": {},
   "outputs": [
    {
     "name": "stdout",
     "output_type": "stream",
     "text": [
      "0.039132107154543086 3.182187356537763e-61\n"
     ]
    }
   ],
   "source": [
    "def get_p(X, mu, sigma):\n",
    "    prefac = ( (2*np.pi)**(0.5*X.shape[0]) * np.linalg.det(sigma) )**(-1)\n",
    "    shifted = X-mu\n",
    "    exponent = -np.dot(0.5 * shifted.T, np.dot(np.linalg.inv(sigma), shifted))\n",
    "    return prefac*np.exp(exponent)\n",
    "def most_likely(X, theta1, theta2):\n",
    "    p1 = get_p(X, *theta1)\n",
    "    p2 = get_p(X, *theta2)\n",
    "    print(p1, p2)\n",
    "\n",
    "D = 3\n",
    "most_likely(np.random.random(D), (np.zeros(D), np.eye(D)), (10, np.eye(D)))\n",
    "    "
   ]
  },
  {
   "cell_type": "code",
   "execution_count": null,
   "metadata": {},
   "outputs": [],
   "source": []
  }
 ],
 "metadata": {
  "kernelspec": {
   "display_name": "Python 3",
   "language": "python",
   "name": "python3"
  },
  "language_info": {
   "codemirror_mode": {
    "name": "ipython",
    "version": 3
   },
   "file_extension": ".py",
   "mimetype": "text/x-python",
   "name": "python",
   "nbconvert_exporter": "python",
   "pygments_lexer": "ipython3",
   "version": "3.6.5"
  }
 },
 "nbformat": 4,
 "nbformat_minor": 2
}
